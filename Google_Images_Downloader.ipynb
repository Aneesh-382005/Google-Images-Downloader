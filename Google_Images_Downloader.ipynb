{
  "nbformat": 4,
  "nbformat_minor": 0,
  "metadata": {
    "colab": {
      "provenance": [],
      "authorship_tag": "ABX9TyNkJNBr/3LdmvOyMfKHeY0R",
      "include_colab_link": true
    },
    "kernelspec": {
      "name": "python3",
      "display_name": "Python 3"
    },
    "language_info": {
      "name": "python"
    }
  },
  "cells": [
    {
      "cell_type": "markdown",
      "metadata": {
        "id": "view-in-github",
        "colab_type": "text"
      },
      "source": [
        "<a href=\"https://colab.research.google.com/github/NoobCoder6969/Google-Images-Downloader/blob/main/Google_Images_Downloader.ipynb\" target=\"_parent\"><img src=\"https://colab.research.google.com/assets/colab-badge.svg\" alt=\"Open In Colab\"/></a>"
      ]
    },
    {
      "cell_type": "markdown",
      "source": [
        "## Google Images Downloader\n",
        "\n",
        "This program dynamically prompts the user for a search query and a number. It then downloads that number of images related to the search query and stores them in the \"Images\" directory. The location of the directory can be modified by changing the code.\n",
        "\n",
        "After downloading the images, the directory is converted into a zip file for easy download.\n",
        "\n",
        "Here are the steps to run the code successfully :"
      ],
      "metadata": {
        "id": "Q9kT7xHV5tQX"
      }
    },
    {
      "cell_type": "markdown",
      "source": [
        "### 1. Install Library\n",
        "First, install the `google_images_search` library"
      ],
      "metadata": {
        "id": "Nbfjq3Co9AVW"
      }
    },
    {
      "cell_type": "code",
      "execution_count": null,
      "metadata": {
        "colab": {
          "base_uri": "https://localhost:8080/"
        },
        "id": "ID45oEKU4_ua",
        "outputId": "ce18172d-33e1-4c91-ecab-6990d16cce56"
      },
      "outputs": [
        {
          "output_type": "stream",
          "name": "stdout",
          "text": [
            "/bin/bash: line 1: dev/NULL: No such file or directory\n"
          ]
        }
      ],
      "source": [
        "!pip install google_images_search &>/dev/NULL"
      ]
    },
    {
      "cell_type": "markdown",
      "source": [
        "### 2. Set up Environment Variables\n",
        "Set up your environment variables for the API key and Custom Search Engine ID (CX)."
      ],
      "metadata": {
        "id": "sRYNNP3v-WxL"
      }
    },
    {
      "cell_type": "code",
      "source": [
        "import os\n",
        "\n",
        "os.environ['GCS_DEVELOPER_KEY'] = 'your_api_key_here'\n",
        "os.environ['GCS_CX'] = 'your_cx_here'"
      ],
      "metadata": {
        "id": "UUQfRQQG-pPg"
      },
      "execution_count": null,
      "outputs": []
    },
    {
      "cell_type": "markdown",
      "source": [
        "### 3. Import the required Libraries"
      ],
      "metadata": {
        "id": "JcIPcD0H-5SB"
      }
    },
    {
      "cell_type": "code",
      "source": [
        "from google_images_search import GoogleImagesSearch # To search and download images\n",
        "import shutil # To create a zip file archive\n",
        "from google.colab import files # To download files in Google Colab\n",
        "import os # To handle environment variables and system operations"
      ],
      "metadata": {
        "id": "qVEbxXj75svG"
      },
      "execution_count": null,
      "outputs": []
    },
    {
      "cell_type": "markdown",
      "source": [
        "### 4. Define Function to Search and Download Images"
      ],
      "metadata": {
        "id": "l_7dXcvLAyHl"
      }
    },
    {
      "cell_type": "code",
      "source": [
        "# Create an instance of the Google Images Search\n",
        "def Search(Keyword, Number, Subfolder):\n",
        "\n",
        "  os.makedirs(f'Images/{Subfolder}', exist_ok = True)\n",
        "\n",
        "  apiKey = os.getenv('GCS_Developer_Key')\n",
        "  cx = os.getenv('CX')\n",
        "\n",
        "  gis = GoogleImagesSearch(apiKey, cx, validate_images = True)\n",
        "  if not apiKey or not cx:\n",
        "    print('GCS Developer Key and CX not set')\n",
        "\n",
        "  _search_params = {\n",
        "      'q' : Keyword,\n",
        "      'num' : Number\n",
        "  }\n",
        "  gis.search(search_params = _search_params, path_to_dir=f'Images/{Subfolder}')\n",
        "  print('Search Completed')"
      ],
      "metadata": {
        "id": "UFkHP9czBKOX"
      },
      "execution_count": null,
      "outputs": []
    },
    {
      "cell_type": "markdown",
      "source": [
        "### 5. Run the Function"
      ],
      "metadata": {
        "id": "oHtZeRNSKUSS"
      }
    },
    {
      "cell_type": "code",
      "source": [
        "if __name__ == '__main__':\n",
        "  Keyword = input('Enter Keyword : ')\n",
        "  Number = int(input('Enter Number : '))\n",
        "  Subfolder = input('Enter Subfolder : ')\n",
        "  Search(Keyword, Number, Subfolder)\n",
        "  print('Downloading Complete')\n",
        "\n",
        "  Choice = input(\"Convert to Zip and Download? Yes or No : \").lower()\n",
        "\n",
        "  if Choice in ['yes', 'y']:\n",
        "    shutil.make_archive(f'Images/{Subfolder}', 'zip', f'Images/{Subfolder}')\n",
        "    print(f'Zip File {Subfolder} Created')\n",
        "\n",
        "    files.download(f'Images/{Subfolder}.zip')\n",
        "\n",
        "  else:\n",
        "    print('Zip File Skipped')"
      ],
      "metadata": {
        "colab": {
          "base_uri": "https://localhost:8080/",
          "height": 138
        },
        "id": "IEX4kI5PCIES",
        "outputId": "77ab5390-c6b8-4ac4-aa15-c99bacf3a77c"
      },
      "execution_count": null,
      "outputs": [
        {
          "output_type": "stream",
          "name": "stdout",
          "text": [
            "Enter Keyword : Human\n",
            "Enter Number : 10\n",
            "Enter Subfolder : Human\n",
            "Search Completed\n",
            "Downloading Complete\n",
            "Convert to Zip and Download? Yes or No : yes\n",
            "Zip File Human Created\n"
          ]
        },
        {
          "output_type": "display_data",
          "data": {
            "text/plain": [
              "<IPython.core.display.Javascript object>"
            ],
            "application/javascript": [
              "\n",
              "    async function download(id, filename, size) {\n",
              "      if (!google.colab.kernel.accessAllowed) {\n",
              "        return;\n",
              "      }\n",
              "      const div = document.createElement('div');\n",
              "      const label = document.createElement('label');\n",
              "      label.textContent = `Downloading \"${filename}\": `;\n",
              "      div.appendChild(label);\n",
              "      const progress = document.createElement('progress');\n",
              "      progress.max = size;\n",
              "      div.appendChild(progress);\n",
              "      document.body.appendChild(div);\n",
              "\n",
              "      const buffers = [];\n",
              "      let downloaded = 0;\n",
              "\n",
              "      const channel = await google.colab.kernel.comms.open(id);\n",
              "      // Send a message to notify the kernel that we're ready.\n",
              "      channel.send({})\n",
              "\n",
              "      for await (const message of channel.messages) {\n",
              "        // Send a message to notify the kernel that we're ready.\n",
              "        channel.send({})\n",
              "        if (message.buffers) {\n",
              "          for (const buffer of message.buffers) {\n",
              "            buffers.push(buffer);\n",
              "            downloaded += buffer.byteLength;\n",
              "            progress.value = downloaded;\n",
              "          }\n",
              "        }\n",
              "      }\n",
              "      const blob = new Blob(buffers, {type: 'application/binary'});\n",
              "      const a = document.createElement('a');\n",
              "      a.href = window.URL.createObjectURL(blob);\n",
              "      a.download = filename;\n",
              "      div.appendChild(a);\n",
              "      a.click();\n",
              "      div.remove();\n",
              "    }\n",
              "  "
            ]
          },
          "metadata": {}
        },
        {
          "output_type": "display_data",
          "data": {
            "text/plain": [
              "<IPython.core.display.Javascript object>"
            ],
            "application/javascript": [
              "download(\"download_ba9d8587-ca10-4f12-889e-6d6ad1a669c8\", \"Human.zip\", 11637837)"
            ]
          },
          "metadata": {}
        }
      ]
    },
    {
      "cell_type": "markdown",
      "source": [
        "### All at Once"
      ],
      "metadata": {
        "id": "GDDkY0iArqPS"
      }
    },
    {
      "cell_type": "code",
      "source": [
        "!pip install google_images_search &>/dev/NULL\n",
        "\n",
        "from google_images_search import GoogleImagesSearch\n",
        "import shutil\n",
        "from google.colab import files\n",
        "import os\n",
        "\n",
        "os.environ['GCS_DEVELOPER_KEY'] = 'your_api_key_here'\n",
        "os.environ['GCS_CX'] = 'your_cx_here'\n",
        "\n",
        "def Search(Keyword, Number, Subfolder):\n",
        "\n",
        "  os.makedirs(f'Images/{Subfolder}', exist_ok = True)\n",
        "\n",
        "  apiKey = os.getenv('GCS_Developer_Key')\n",
        "  cx = os.getenv('CX')\n",
        "\n",
        "  gis = GoogleImagesSearch(apiKey, cx, validate_images = True)\n",
        "  if not apiKey or not cx:\n",
        "    print('GCS Developer Key and CX not set')\n",
        "\n",
        "  _search_params = {\n",
        "      'q' : Keyword,\n",
        "      'num' : Number\n",
        "  }\n",
        "  gis.search(search_params = _search_params, path_to_dir=f'Images/{Subfolder}')\n",
        "  print('Search Completed')\n",
        "\n",
        "if __name__ == '__main__':\n",
        "  Keyword = input('Enter Keyword : ')\n",
        "  Number = int(input('Enter Number : '))\n",
        "  Subfolder = input('Enter Subfolder : ')\n",
        "  Search(Keyword, Number, Subfolder)\n",
        "  print('Downloading Complete')\n",
        "\n",
        "  Choice = input(\"Convert to Zip and Download? Yes or No : \").lower()\n",
        "\n",
        "  if Choice in ['yes', 'y']:\n",
        "    shutil.make_archive(f'Images/{Subfolder}', 'zip', f'Images/{Subfolder}')\n",
        "    print(f'Zip File {Subfolder} Created')\n",
        "\n",
        "    files.download(f'Images/{Subfolder}.zip')\n",
        "\n",
        "  else:\n",
        "    print('Zip File Skipped')"
      ],
      "metadata": {
        "colab": {
          "base_uri": "https://localhost:8080/"
        },
        "id": "xeEQKbrTruYs",
        "outputId": "3b1101c4-c00a-455f-c192-410fb73fd6bd"
      },
      "execution_count": null,
      "outputs": [
        {
          "output_type": "stream",
          "name": "stdout",
          "text": [
            "/bin/bash: line 1: dev/NULL: No such file or directory\n",
            "Enter Keyword : Games\n",
            "Enter Number : 10\n",
            "Enter Subfolder : Games\n",
            "Search Completed\n",
            "Downloading Complete\n",
            "Convert to Zip and Download? Yes or No : No\n",
            "Zip File Skipped\n"
          ]
        }
      ]
    },
    {
      "cell_type": "markdown",
      "source": [
        "## Steps to Create Your Own API Key for Google Images Search\n",
        "\n",
        "1. Go to Google Cloud Console:\n",
        "  * Visit the Google Cloud Console.\n",
        "\n",
        "2. Create a Project:\n",
        "  * If needed, create a new project from the project selector menu.\n",
        "\n",
        "3. Enable Custom Search API:\n",
        "  * Navigate to APIs & Services > Library, search for \"Custom Search API\", and enable it.\n",
        "\n",
        "4. Create API Key:\n",
        "  * Go to APIs & Services > Credentials, click on \"+ Create Credentials\", and choose \"API key\". Copy the generated API key.\n",
        "\n",
        "5. Replace API Key in Your Code:\n",
        "  * Replace the placeholder API key in your application or script with the newly created API key.\n"
      ],
      "metadata": {
        "id": "VE-sIO5MwJqd"
      }
    }
  ]
}